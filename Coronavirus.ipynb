{
  "nbformat": 4,
  "nbformat_minor": 0,
  "metadata": {
    "colab": {
      "name": "Coronavirus.ipynb",
      "provenance": []
    },
    "kernelspec": {
      "name": "python3",
      "display_name": "Python 3"
    }
  },
  "cells": [
    {
      "cell_type": "code",
      "metadata": {
        "id": "Vq-eolV5CjWa",
        "colab_type": "code",
        "colab": {}
      },
      "source": [
        "import numpy as np\n",
        "import pandas as pd\n",
        "import matplotlib.pyplot as plt\n",
        "\n",
        "from matplotlib.colors import ListedColormap\n",
        "from IPython.display import clear_output\n",
        "from time import sleep\n",
        "\n",
        "cmap_bold = ListedColormap([\"#FF0000\", \"#00FF00\", \"#0000FF\"])\n",
        "cmap_light = ListedColormap([\"#FFBBBB\", \"#BBFFBB\", \"#BBBBFF\"])\n",
        "\n",
        "%matplotlib inline"
      ],
      "execution_count": 0,
      "outputs": []
    },
    {
      "cell_type": "code",
      "metadata": {
        "id": "LbUYLfaECfoY",
        "colab_type": "code",
        "colab": {}
      },
      "source": [
        "def linear(H):\n",
        "    return H\n",
        "\n",
        "\n",
        "def ReLU(H):  # Rectified Linear Unit\n",
        "    return H*(H > 0)\n",
        "\n",
        "\n",
        "def sigmoid(H):\n",
        "    return 1/(1 + np.exp(-H))\n",
        "\n",
        "\n",
        "def softmax(H):\n",
        "    eH = np.exp(H)\n",
        "    return eH/eH.sum(axis=1, keepdims=True)\n",
        "\n",
        "\n",
        "def cross_entropy(Y, P_hat):\n",
        "    # return -(1/len(Y)) * np.sum(Y*np.log(P_hat) + (1-Y)*np.log(1-P_hat))\n",
        "    # return -np.sum(Y*np.log(P_hat))\n",
        "    return -(1/len(Y)) * np.sum(Y*np.log(P_hat))\n",
        "\n",
        "\n",
        "def OLS(Y, Y_hat):\n",
        "    return (1/(2*len(Y))) * np.sum((Y - Y_hat)**2)\n",
        "\n",
        "\n",
        "def one_hot_encode(y):\n",
        "    N = len(y)\n",
        "    k = len(set(y))\n",
        "    Y = np.zeros((N, k))\n",
        "\n",
        "    for i in range(N):\n",
        "        Y[i, y[i]] = 1\n",
        "\n",
        "    return Y\n",
        "\n",
        "\n",
        "def derivative(Z, a):\n",
        "    if a == linear:\n",
        "        return 1\n",
        "\n",
        "    elif a == sigmoid:\n",
        "        return Z*(1-Z)\n",
        "\n",
        "    elif a == np.tanh:\n",
        "        return 1 - Z*Z\n",
        "\n",
        "    elif a == ReLU:\n",
        "        return (Z > 0).astype(int)\n",
        "    else:\n",
        "        ValueError(\"Unknown Activation\")"
      ],
      "execution_count": 0,
      "outputs": []
    },
    {
      "cell_type": "code",
      "metadata": {
        "id": "Mwknuk0EBIl2",
        "colab_type": "code",
        "colab": {}
      },
      "source": [
        "class ANN():\n",
        "    def __init__(self, architecture, activations=None, mode=0):\n",
        "        self.mode = mode\n",
        "        self.architecture = architecture\n",
        "        self.activations = activations\n",
        "        self.L = len(architecture) + 1\n",
        "\n",
        "    def fit(self, X, y, eta=1e-3, epochs=1e3, show_curve=False):\n",
        "        epochs = int(epochs)\n",
        "\n",
        "        if self.mode:  # 0: Classification, 1: Regression\n",
        "            Y = y\n",
        "        else:\n",
        "            Y = one_hot_encode(y)\n",
        "\n",
        "        N, D = X.shape\n",
        "        K = Y.shape[1]\n",
        "\n",
        "        self.W = {l: np.random.randn(M[0], M[1])\n",
        "                  for l, M in enumerate(zip(\n",
        "                   ([D] + self.architecture), (self.architecture + [K])), 1)}\n",
        "        self.B = {l: np.random.randn(M)\n",
        "                  for l, M in enumerate(self.architecture + [K], 1)}\n",
        "\n",
        "        if self.activations is None:\n",
        "            self.a = {l: ReLU for l in range(1, self.L)}\n",
        "        else:\n",
        "            self.a = {l: act for l, act in enumerate(self.activations, 1)}\n",
        "\n",
        "        if self.mode:\n",
        "            self.a[self.L] = linear\n",
        "        else:\n",
        "            self.a[self.L] = softmax\n",
        "\n",
        "        J = np.zeros(epochs)\n",
        "        for epoch in range(epochs):\n",
        "            self.forward(X)  # Calculate values through\n",
        "\n",
        "            if self.mode:\n",
        "                J[epoch] = OLS(Y, self.Z[self.L])\n",
        "            else:\n",
        "                J[epoch] = cross_entropy(Y, self.Z[self.L])\n",
        "\n",
        "            # Begin back propagation\n",
        "            dH = (1/N)*(self.Z[self.L] - Y)\n",
        "            for l in sorted(self.W.keys(), reverse=True):\n",
        "                dW = self.Z[l-1].T@dH\n",
        "                dB = dH.sum(axis=0)\n",
        "                self.W[l] -= eta*dW\n",
        "                self.B[l] -= eta*dB\n",
        "\n",
        "                if l > 1:  # If not input layer next, update dH.\n",
        "                    dZ = dH@self.W[l].T\n",
        "                    dH = dZ*derivative(self.Z[l-1], self.a[l-1])\n",
        "\n",
        "        if show_curve:\n",
        "            plt.figure()\n",
        "            plt.plot(J)\n",
        "            plt.xlabel(\"epochs\")\n",
        "            plt.ylabel(\"$\\mathcal{J}$\")\n",
        "            plt.show()\n",
        "\n",
        "    def forward(self, X):\n",
        "        self.Z = {0: X}\n",
        "\n",
        "        for l in sorted(self.W.keys()):\n",
        "            self.Z[l] = self.a[l](self.Z[l-1]@self.W[l] + self.B[l])\n",
        "\n",
        "    def predict(self, X):\n",
        "        self.forward(X)\n",
        "\n",
        "        if self.mode:\n",
        "            return self.Z[self.L]\n",
        "        else:\n",
        "            return self.Z[self.L].argmax(axis=1)"
      ],
      "execution_count": 0,
      "outputs": []
    },
    {
      "cell_type": "code",
      "metadata": {
        "id": "HHGTy0WpC2ET",
        "colab_type": "code",
        "colab": {}
      },
      "source": [
        "def accuracy(y, y_hat):\n",
        "    return np.mean(y == y_hat)\n",
        "\n",
        "\n",
        "def R2(y, y_hat):\n",
        "    return np.sqrt((y-y_hat)**2)\n"
      ],
      "execution_count": 0,
      "outputs": []
    },
    {
      "cell_type": "code",
      "metadata": {
        "id": "3Yn4xAkVC2Tr",
        "colab_type": "code",
        "colab": {}
      },
      "source": [
        "# Import and prepare data\n",
        "data = pd.read_csv(\"/content/drive/My Drive/Colab Notebooks/CORONAVIRUS/Corona_SK_Data.csv\")\n",
        "X_SK = data.to_numpy()\n",
        "i_SK = X_SK[: 61, 0]\n",
        "y_SK = X_SK[: 61, 16:17].astype(float)\n",
        "X_SK = X_SK[:, 19:]  # Grab active set to determine from pre-processsed patient data in a second\n",
        "temp = np.zeros((61, 1))\n",
        "for i in range(len(X_SK)):\n",
        "  if X_SK[i, 3]:  # Check condition\n",
        "    start =X_SK[i, 0]\n",
        "    end = X_SK[i, 2] + start\n",
        "    temp[start:end] = temp[start:end] + 1\n",
        "  else:\n",
        "    continue\n",
        "\n",
        "# Set up inputs now that we've sorted through the SK data\n",
        "X_SK = temp\n",
        "\n",
        "data = pd.read_csv(\"/content/drive/My Drive/Colab Notebooks/CORONAVIRUS/US-Confirmed.csv\")\n",
        "X_US = data.to_numpy()  # Begins Index 33, Smoothed to 20\n",
        "i_US = X_US[:, 63]\n",
        "X_US = X_US[:, 62:63].astype(float)"
      ],
      "execution_count": 0,
      "outputs": []
    },
    {
      "cell_type": "code",
      "metadata": {
        "id": "CsmxeQg9LQBr",
        "colab_type": "code",
        "outputId": "32c77203-7976-4be5-dbf5-26ab9b066580",
        "colab": {
          "base_uri": "https://localhost:8080/",
          "height": 292
        }
      },
      "source": [
        "plt.figure()\n",
        "plt.xlabel(\"Days\", color='w')\n",
        "plt.ylabel(\"Number of Active Cases\", color='w')\n",
        "plt.title(\"US and SK Active Cases\", color='w')\n",
        "plt.xticks(color='w')\n",
        "plt.yticks(color='w')\n",
        "plt.tick_params(direction=\"in\")\n",
        "plt.axvline(x=25, color = \"#BBBBBB\", linestyle=\"dashed\") # Put vertical lines at shift.\n",
        "plt.axvline(x=43, color = \"#BBBBBB\", linestyle=\"dashed\")\n",
        "plt.scatter(i_US, X_US, alpha = 0.6, color = 'b', label=\"US\")  # USA\n",
        "# plt.scatter(i_SK, X_SK, alpha = 0.6, color = 'r')  # Adjusted SK (To have end cut off later to adjust to US shift, so end is flat from processing)\n",
        "plt.scatter(i_SK, y_SK, alpha = 0.6, color = 'k', label=\"SK\")  # Actual SK\n",
        "plt.legend(loc=\"upper left\")\n",
        "plt.show()"
      ],
      "execution_count": 0,
      "outputs": [
        {
          "output_type": "display_data",
          "data": {
            "image/png": "[encoded data removed]",
            "text/plain": [
              "<Figure size 432x288 with 1 Axes>"
            ]
          },
          "metadata": {
            "tags": []
          }
        }
      ]
    },
    {
      "cell_type": "code",
      "metadata": {
        "id": "ErkD6ihCFPg8",
        "colab_type": "code",
        "outputId": "fd7096ea-ed17-472a-92fa-0c005a1fd29f",
        "colab": {
          "base_uri": "https://localhost:8080/",
          "height": 34
        }
      },
      "source": [
        "# Shift by 20, gives us ~2 weeks of prediction.\n",
        "shift =  18\n",
        "X_US = X_US[shift:]\n",
        "i_US = i_US[shift:] - shift\n",
        "\n",
        "X_SK = X_SK[: len(X_US)]\n",
        "i_SK = i_SK[: len(X_US)]\n",
        "\n",
        "if len(X_SK) != len(X_US) or not np.array_equal(i_US, i_SK):\n",
        "  print(\"Something has gone terribly wrong!\")\n",
        "else:\n",
        "  print(\"SK and US data successfully aligned\")"
      ],
      "execution_count": 0,
      "outputs": [
        {
          "output_type": "stream",
          "text": [
            "SK and US data successfully aligned\n"
          ],
          "name": "stdout"
        }
      ]
    },
    {
      "cell_type": "code",
      "metadata": {
        "id": "tJmP-lciLKgO",
        "colab_type": "code",
        "outputId": "a8157002-3bdf-4073-e104-d27060cd64cd",
        "colab": {
          "base_uri": "https://localhost:8080/",
          "height": 292
        }
      },
      "source": [
        "plt.figure()\n",
        "plt.xlabel(\"Days\", color='w')\n",
        "plt.ylabel(\"Number of Active Cases\", color='w')\n",
        "plt.title(\"US and SK Active Cases\", color='w')\n",
        "plt.xticks(color='w')\n",
        "plt.yticks(color='w')\n",
        "plt.tick_params(direction=\"in\")\n",
        "plt.axvline(x=25, color = \"#BBBBBB\", linestyle=\"dashed\") # Put vertical lines at shift.\n",
        "plt.scatter(i_US, X_US, alpha = 0.6, color='b', label=\"US\")\n",
        "plt.scatter(i_SK, X_SK, alpha = 0.6, color='k', label=\"SK\")\n",
        "plt.legend(loc=\"upper left\")\n",
        "plt.show()"
      ],
      "execution_count": 0,
      "outputs": [
        {
          "output_type": "display_data",
          "data": {
            "image/png": "[encoded data removed]",
            "text/plain": [
              "<Figure size 432x288 with 1 Axes>"
            ]
          },
          "metadata": {
            "tags": []
          }
        }
      ]
    },
    {
      "cell_type": "code",
      "metadata": {
        "id": "HJhet2GtawYd",
        "colab_type": "code",
        "colab": {}
      },
      "source": [
        "# Match X to y before fitting\n",
        "# print(X_SK.shape)\n",
        "# print(X_US.shape)\n",
        "# print(y_SK.shape)\n",
        "shift = y_SK.shape[0] - X_SK.shape[0]\n",
        "# print(shift)\n",
        "start = X_SK.shape[0] - shift\n",
        "# print(start)\n",
        "end = X_SK.shape[0]\n",
        "\n",
        "X_SK_chop = X_SK[:start]\n",
        "X_US_chop = X_US[:start]\n",
        "X_SK = X_SK[start:]\n",
        "X_US = X_US[start:]\n",
        "y_SK = y_SK[end:]\n",
        "\n",
        "# print(X_SK.shape)\n",
        "# print(X_US.shape)\n",
        "# print(y_SK.shape)\n",
        "# print(X_US.dtype)\n",
        "\n",
        "# normalization\n",
        "norm_X_SK = np.max(X_SK)\n",
        "X_SK = X_SK / norm_X_SK\n",
        "\n",
        "norm_X_US = np.max(X_US)\n",
        "X_US = X_US / norm_X_US\n",
        "\n",
        "norm_y_SK = np.max(y_SK)\n",
        "y_SK = y_SK / norm_y_SK"
      ],
      "execution_count": 0,
      "outputs": []
    },
    {
      "cell_type": "code",
      "metadata": {
        "id": "dXRCgkEW8myN",
        "colab_type": "code",
        "outputId": "de2dfbf6-2baf-4a87-f599-ac6a1738add6",
        "colab": {
          "base_uri": "https://localhost:8080/",
          "height": 279
        }
      },
      "source": [
        "# The meat and the potatoes\n",
        "\n",
        "architecture = [30, 30, 30]  # Number of neurons for each layer.\n",
        "activations = [np.tanh]*len(architecture)  # Activation function for each layer.\n",
        "\n",
        "# Note: Sometimes gives choppy/spikey results due to LOTS of local minima for J, may need to re-run if this happens\n",
        "ann_reg = ANN(architecture, activations, 1)\n",
        "ann_reg.fit(X_SK, y_SK, eta=1e-2, epochs=1e6, show_curve=True)\n",
        "y_hat_SK = ann_reg.predict(X_SK)\n",
        "y_hat_US = ann_reg.predict(X_US)"
      ],
      "execution_count": 0,
      "outputs": [
        {
          "output_type": "display_data",
          "data": {
            "image/png": "[encoded data removed]",
            "text/plain": [
              "<Figure size 432x288 with 1 Axes>"
            ]
          },
          "metadata": {
            "tags": []
          }
        }
      ]
    },
    {
      "cell_type": "code",
      "metadata": {
        "id": "VUS_1hunWM4w",
        "colab_type": "code",
        "outputId": "14809a69-c1b8-494a-8f54-72431add14d0",
        "colab": {
          "base_uri": "https://localhost:8080/",
          "height": 357
        }
      },
      "source": [
        "print(R2(y_SK, y_hat_SK))\n",
        "print(\"R2: \" + str(np.mean(R2(y_SK, y_hat_SK))))\n",
        "# print(\"R2: \" + str(np.corrcoef(y_SK, y_hat_SK)[0, 1]**2))"
      ],
      "execution_count": 0,
      "outputs": [
        {
          "output_type": "stream",
          "text": [
            "[[0.20631956]\n",
            " [0.0923972 ]\n",
            " [0.03657391]\n",
            " [0.04553199]\n",
            " [0.08002582]\n",
            " [0.14938506]\n",
            " [0.12555992]\n",
            " [0.02442083]\n",
            " [0.03225751]\n",
            " [0.0209153 ]\n",
            " [0.00648357]\n",
            " [0.00586648]\n",
            " [0.02045862]\n",
            " [0.01184663]\n",
            " [0.01180565]\n",
            " [0.00163402]\n",
            " [0.00516116]\n",
            " [0.00171989]\n",
            " [0.00213852]]\n",
            "R2: 0.04634219194337141\n"
          ],
          "name": "stdout"
        }
      ]
    },
    {
      "cell_type": "code",
      "metadata": {
        "id": "16JHX9W-JPeH",
        "colab_type": "code",
        "colab": {}
      },
      "source": [
        "# Turn back into real values and create full arrays.\n",
        "X_SK = X_SK * norm_X_SK\n",
        "X_US = X_US * norm_X_US\n",
        "y_SK = y_SK * norm_y_SK\n",
        "\n",
        "y_hat_SK = y_hat_SK * norm_y_SK\n",
        "y_hat_US = y_hat_US * norm_X_US\n",
        "\n",
        "y_SK_Original = np.concatenate((X_SK_chop, X_SK, y_SK))\n",
        "y_SK_Pred = np.concatenate((X_SK_chop, X_SK, y_hat_SK))\n",
        "y_US_Pred = np.concatenate((X_US_chop, X_US, y_hat_US))\n",
        "\n",
        "ind = np.linspace(0, len(y_US_Pred), len(y_US_Pred))"
      ],
      "execution_count": 0,
      "outputs": []
    },
    {
      "cell_type": "code",
      "metadata": {
        "id": "aUhWMDEHNuDA",
        "colab_type": "code",
        "outputId": "722323fc-430d-4ca9-b3a2-2fa2ff9797bc",
        "colab": {
          "base_uri": "https://localhost:8080/",
          "height": 292
        }
      },
      "source": [
        "plt.figure()\n",
        "plt.xlabel(\"Days\", color='w')\n",
        "plt.ylabel(\"Number of Active Cases\", color='w')\n",
        "plt.title(\"US and SK Active Cases\", color='w')\n",
        "plt.xticks(color='w')\n",
        "plt.yticks(color='w')\n",
        "plt.tick_params(direction=\"in\")\n",
        "plt.scatter(ind, y_SK_Original, color='k')\n",
        "plt.scatter(ind, y_SK_Pred, color='r')\n",
        "plt.scatter(ind, y_US_Pred, color='b')\n",
        "plt.show()"
      ],
      "execution_count": 0,
      "outputs": [
        {
          "output_type": "display_data",
          "data": {
            "image/png": "[encoded data removed]",
            "text/plain": [
              "<Figure size 432x288 with 1 Axes>"
            ]
          },
          "metadata": {
            "tags": []
          }
        }
      ]
    },
    {
      "cell_type": "code",
      "metadata": {
        "id": "JhdnWzL41Qbg",
        "colab_type": "code",
        "outputId": "4465cb1f-f075-440f-d72f-594c39ad112a",
        "colab": {
          "base_uri": "https://localhost:8080/",
          "height": 292
        }
      },
      "source": [
        "plt.figure()\n",
        "plt.xlabel(\"Days\", color='w')\n",
        "plt.ylabel(\"Number of Active Cases\", color='w')\n",
        "plt.title(\"US and SK Active Cases\", color='w')\n",
        "plt.xticks(color='w')\n",
        "plt.yticks(color='w')\n",
        "plt.tick_params(direction=\"in\")\n",
        "plt.plot(ind, y_SK_Original, color='k', label=\"SK Actual\")\n",
        "plt.plot(ind, y_SK_Pred, color='r', linestyle=\"dashed\", label=\"SK Predicted\")\n",
        "plt.plot(ind, y_US_Pred, color='b', label=\"US Predicted\")\n",
        "plt.legend(loc=\"upper left\")\n",
        "plt.show()"
      ],
      "execution_count": 0,
      "outputs": [
        {
          "output_type": "display_data",
          "data": {
            "image/png": "[encoded data removed]",
            "text/plain": [
              "<Figure size 432x288 with 1 Axes>"
            ]
          },
          "metadata": {
            "tags": []
          }
        }
      ]
    },
    {
      "cell_type": "code",
      "metadata": {
        "id": "5nSb3isfALk0",
        "colab_type": "code",
        "outputId": "84e63ba7-7e17-4f87-bbd7-9b31586322be",
        "colab": {
          "base_uri": "https://localhost:8080/",
          "height": 292
        }
      },
      "source": [
        "# DOW/Market Crash was on 2/27/20. We shifted USA by 18, so the start of the set/crash is now 20 instead of 38. 7-8 days before exponential growth,\n",
        "# and 10 days after cases starting growing in the USA.\n",
        "\n",
        "plt.figure()\n",
        "plt.xlabel(\"Days\", color='w')\n",
        "plt.ylabel(\"Number of Active Cases\", color='w')\n",
        "plt.title(\"US Active Cases\", color='w')\n",
        "plt.xticks(color='w')\n",
        "plt.yticks(color='w')\n",
        "plt.tick_params(direction=\"in\")\n",
        "plt.ylim(0, 60)\n",
        "plt.xlim(5, 25)\n",
        "plt.axvline(x=11, color = \"#696969\", linestyle=\"dashed\") # Put vertical lines at shift.\n",
        "plt.axvline(x=20, color = \"m\", linestyle=\"dashed\") # Put vertical lines at shift.\n",
        "plt.plot(ind, y_US_Pred, color='b')\n",
        "plt.show()"
      ],
      "execution_count": 0,
      "outputs": [
        {
          "output_type": "display_data",
          "data": {
            "image/png": "[encoded data removed]",
            "text/plain": [
              "<Figure size 432x288 with 1 Axes>"
            ]
          },
          "metadata": {
            "tags": []
          }
        }
      ]
    },
    {
      "cell_type": "code",
      "metadata": {
        "id": "RZjYuDmFA8DA",
        "colab_type": "code",
        "outputId": "a2a7fed3-d216-48cd-87f3-a34582b3840d",
        "colab": {
          "base_uri": "https://localhost:8080/",
          "height": 292
        }
      },
      "source": [
        "# Similarly for stabalization:\n",
        "\n",
        "plt.figure()\n",
        "plt.xlabel(\"Days\", color='w')\n",
        "plt.ylabel(\"Number of Active Cases\", color='w')\n",
        "plt.title(\"US Active Cases\", color='w')\n",
        "plt.xticks(color='w')\n",
        "plt.yticks(color='w')\n",
        "plt.tick_params(direction=\"in\")\n",
        "plt.ylim(28000, 38000)\n",
        "plt.xlim(45, 61)\n",
        "plt.axvline(x=50, color = \"#696969\", linestyle=\"dashed\") # Start Stab, 3/28/20\n",
        "plt.axvline(x=59, color = \"m\", linestyle=\"dashed\") # 9 Days after Stab, 4/6/20\n",
        "plt.plot(ind, y_US_Pred, color='b')\n",
        "plt.show()"
      ],
      "execution_count": 0,
      "outputs": [
        {
          "output_type": "display_data",
          "data": {
            "image/png": "[encoded data removed]",
            "text/plain": [
              "<Figure size 432x288 with 1 Axes>"
            ]
          },
          "metadata": {
            "tags": []
          }
        }
      ]
    },
    {
      "cell_type": "code",
      "metadata": {
        "id": "dYMgv3DAX9oX",
        "colab_type": "code",
        "outputId": "2358a98e-3a8e-4b3c-9d40-88ea7fa0244b",
        "colab": {
          "base_uri": "https://localhost:8080/",
          "height": 1000
        }
      },
      "source": [
        "print(y_US_Pred)"
      ],
      "execution_count": 0,
      "outputs": [
        {
          "output_type": "stream",
          "text": [
            "[[0.00000000e+00]\n",
            " [0.00000000e+00]\n",
            " [0.00000000e+00]\n",
            " [0.00000000e+00]\n",
            " [0.00000000e+00]\n",
            " [1.00000000e+00]\n",
            " [1.00000000e+00]\n",
            " [1.00000000e+00]\n",
            " [2.00000000e+00]\n",
            " [3.00000000e+00]\n",
            " [5.00000000e+00]\n",
            " [7.00000000e+00]\n",
            " [1.10000000e+01]\n",
            " [1.60000000e+01]\n",
            " [2.40000000e+01]\n",
            " [3.60000000e+01]\n",
            " [3.60000000e+01]\n",
            " [4.20000000e+01]\n",
            " [4.20000000e+01]\n",
            " [4.40000000e+01]\n",
            " [4.40000000e+01]\n",
            " [4.40000000e+01]\n",
            " [4.50000000e+01]\n",
            " [4.50000000e+01]\n",
            " [4.50000000e+01]\n",
            " [4.50000000e+01]\n",
            " [4.50000000e+01]\n",
            " [6.60000000e+01]\n",
            " [2.40000000e+02]\n",
            " [4.80000000e+02]\n",
            " [9.59000000e+02]\n",
            " [1.28100000e+03]\n",
            " [1.66300000e+03]\n",
            " [2.17400000e+03]\n",
            " [2.71700000e+03]\n",
            " [3.47800000e+03]\n",
            " [4.59400000e+03]\n",
            " [6.37200000e+03]\n",
            " [7.72500000e+03]\n",
            " [1.35790000e+04]\n",
            " [1.89860000e+04]\n",
            " [2.53190000e+04]\n",
            " [3.47641538e+04]\n",
            " [3.47641538e+04]\n",
            " [3.47641538e+04]\n",
            " [3.47641538e+04]\n",
            " [3.58991579e+04]\n",
            " [3.57299666e+04]\n",
            " [3.15733756e+04]\n",
            " [3.09463399e+04]\n",
            " [3.09979524e+04]\n",
            " [3.14177460e+04]\n",
            " [3.17947985e+04]\n",
            " [3.17632714e+04]\n",
            " [3.13089687e+04]\n",
            " [3.05049648e+04]\n",
            " [2.98843320e+04]\n",
            " [2.98323370e+04]\n",
            " [2.92155135e+04]\n",
            " [2.92989387e+04]\n",
            " [2.93710030e+04]]\n"
          ],
          "name": "stdout"
        }
      ]
    }
  ]
}